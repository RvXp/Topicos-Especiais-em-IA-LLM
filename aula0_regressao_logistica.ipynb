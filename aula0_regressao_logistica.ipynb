{
  "nbformat": 4,
  "nbformat_minor": 0,
  "metadata": {
    "colab": {
      "provenance": [],
      "authorship_tag": "ABX9TyMEZq24bboNhIAUSnruHy6n",
      "include_colab_link": true
    },
    "kernelspec": {
      "name": "python3",
      "display_name": "Python 3"
    },
    "language_info": {
      "name": "python"
    }
  },
  "cells": [
    {
      "cell_type": "markdown",
      "metadata": {
        "id": "view-in-github",
        "colab_type": "text"
      },
      "source": [
        "<a href=\"https://colab.research.google.com/github/RvXp/Topicos-Especiais-em-IA-LLM/blob/main/aula0_regressao_logistica.ipynb\" target=\"_parent\"><img src=\"https://colab.research.google.com/assets/colab-badge.svg\" alt=\"Open In Colab\"/></a>"
      ]
    },
    {
      "cell_type": "code",
      "execution_count": 7,
      "metadata": {
        "colab": {
          "base_uri": "https://localhost:8080/"
        },
        "id": "Zvh2KgIAy2Oe",
        "outputId": "5d3929c9-5afc-4b24-a57b-02529cf6bd5d"
      },
      "outputs": [
        {
          "output_type": "stream",
          "name": "stdout",
          "text": [
            "torch.Size([150, 4])\n",
            "torch.Size([150, 1])\n"
          ]
        }
      ],
      "source": [
        "import torch; import sklearn\n",
        "\n",
        "# 1. Carregar dados\n",
        "iris = sklearn.datasets.load_iris()\n",
        "\n",
        "X = iris.data           # 4 features: largura da sépalas, largura da pétalas, comprimeto da sépalas e comprimento da pétalas\n",
        "\n",
        "# Cria um array booleano baseado no rotulo das 150 entradas do dataset\n",
        "y = (iris.target == 1).astype(float)  # 1 se Versicolor, 0 caso contrário\n",
        "\n",
        "# temp = torch.tensor(y, dtype=torch.float32)\n",
        "# print(temp.shape)\n",
        "\n",
        "# 2. Preparar dados para pytorch\n",
        "X = torch.tensor(X, dtype=torch.float32)\n",
        "# print(X.shape)\n",
        "\n",
        "y = torch.tensor(y, dtype=torch.float32).view(-1, 1) # O view() ajusta o formato do tensor, o -1 idica para o Pytorch calcular a dimensão.\n",
        "# print(y.shape)"
      ]
    },
    {
      "cell_type": "code",
      "source": [
        "# 3. Definir modelo: regressão logística\n",
        "\n",
        "# Define o modelo a ser utilizado\n",
        "modelo = torch.nn.Linear(4, 1)  # 4 features → 1 saída (probabilidade de ser Versicolor)\n",
        "# y = xA^T + b\n",
        "# x é o tensor de entrada; A é a matrix de pesos encontrados pelo modelo; T transpoe a matrix A para o formato (4,1); b o vies; y a saida\n",
        "\n",
        "# 4. Definir função de perda e algoritmo de otimização\n",
        "\n",
        "funcao_perda = torch.nn.BCEWithLogitsLoss()  # combinação de sigmoid + BCE (Binary Cross Entropy)\n",
        "\n",
        "# O otimizador ajusta os parâmetros do modelo para minimizar a funcao_perda; SGD() é o algoritmo que sera utilizado para a otimização;\n",
        "# modelo.parameters() idica os parametros a serem otimizados; lr=0.1 é o tamanho do passo da atualização.\n",
        "optimizer = torch.optim.SGD(modelo.parameters(), lr=0.1)"
      ],
      "metadata": {
        "id": "kpDdtPAzy_7w"
      },
      "execution_count": 2,
      "outputs": []
    },
    {
      "cell_type": "code",
      "source": [
        "# 5. Treino\n",
        "for epoch in range(1000):\n",
        "    optimizer.zero_grad() # reseta gradiente senão acumula\n",
        "    outputs = modelo(X)\n",
        "    loss = funcao_perda(outputs, y)\n",
        "    loss.backward()\n",
        "    optimizer.step()\n",
        "\n",
        "    if (epoch + 1) % 10 == 0:\n",
        "        print(f\"Época [{epoch+1}/100], Loss: {loss.item():.4f}\")"
      ],
      "metadata": {
        "colab": {
          "base_uri": "https://localhost:8080/"
        },
        "id": "hdqqzkCXzFw8",
        "outputId": "29d83420-8986-44b6-9bd6-fe900e26b003"
      },
      "execution_count": 3,
      "outputs": [
        {
          "output_type": "stream",
          "name": "stdout",
          "text": [
            "Época [10/100], Loss: 0.6913\n",
            "Época [20/100], Loss: 0.6366\n",
            "Época [30/100], Loss: 0.6145\n",
            "Época [40/100], Loss: 0.6041\n",
            "Época [50/100], Loss: 0.5982\n",
            "Época [60/100], Loss: 0.5943\n",
            "Época [70/100], Loss: 0.5913\n",
            "Época [80/100], Loss: 0.5887\n",
            "Época [90/100], Loss: 0.5864\n",
            "Época [100/100], Loss: 0.5842\n",
            "Época [110/100], Loss: 0.5822\n",
            "Época [120/100], Loss: 0.5802\n",
            "Época [130/100], Loss: 0.5783\n",
            "Época [140/100], Loss: 0.5765\n",
            "Época [150/100], Loss: 0.5748\n",
            "Época [160/100], Loss: 0.5731\n",
            "Época [170/100], Loss: 0.5714\n",
            "Época [180/100], Loss: 0.5699\n",
            "Época [190/100], Loss: 0.5683\n",
            "Época [200/100], Loss: 0.5668\n",
            "Época [210/100], Loss: 0.5654\n",
            "Época [220/100], Loss: 0.5640\n",
            "Época [230/100], Loss: 0.5626\n",
            "Época [240/100], Loss: 0.5613\n",
            "Época [250/100], Loss: 0.5601\n",
            "Época [260/100], Loss: 0.5588\n",
            "Época [270/100], Loss: 0.5576\n",
            "Época [280/100], Loss: 0.5565\n",
            "Época [290/100], Loss: 0.5554\n",
            "Época [300/100], Loss: 0.5543\n",
            "Época [310/100], Loss: 0.5532\n",
            "Época [320/100], Loss: 0.5522\n",
            "Época [330/100], Loss: 0.5512\n",
            "Época [340/100], Loss: 0.5502\n",
            "Época [350/100], Loss: 0.5493\n",
            "Época [360/100], Loss: 0.5484\n",
            "Época [370/100], Loss: 0.5475\n",
            "Época [380/100], Loss: 0.5466\n",
            "Época [390/100], Loss: 0.5458\n",
            "Época [400/100], Loss: 0.5450\n",
            "Época [410/100], Loss: 0.5442\n",
            "Época [420/100], Loss: 0.5434\n",
            "Época [430/100], Loss: 0.5427\n",
            "Época [440/100], Loss: 0.5419\n",
            "Época [450/100], Loss: 0.5412\n",
            "Época [460/100], Loss: 0.5405\n",
            "Época [470/100], Loss: 0.5399\n",
            "Época [480/100], Loss: 0.5392\n",
            "Época [490/100], Loss: 0.5386\n",
            "Época [500/100], Loss: 0.5380\n",
            "Época [510/100], Loss: 0.5373\n",
            "Época [520/100], Loss: 0.5368\n",
            "Época [530/100], Loss: 0.5362\n",
            "Época [540/100], Loss: 0.5356\n",
            "Época [550/100], Loss: 0.5351\n",
            "Época [560/100], Loss: 0.5345\n",
            "Época [570/100], Loss: 0.5340\n",
            "Época [580/100], Loss: 0.5335\n",
            "Época [590/100], Loss: 0.5330\n",
            "Época [600/100], Loss: 0.5325\n",
            "Época [610/100], Loss: 0.5321\n",
            "Época [620/100], Loss: 0.5316\n",
            "Época [630/100], Loss: 0.5312\n",
            "Época [640/100], Loss: 0.5307\n",
            "Época [650/100], Loss: 0.5303\n",
            "Época [660/100], Loss: 0.5299\n",
            "Época [670/100], Loss: 0.5295\n",
            "Época [680/100], Loss: 0.5291\n",
            "Época [690/100], Loss: 0.5287\n",
            "Época [700/100], Loss: 0.5283\n",
            "Época [710/100], Loss: 0.5279\n",
            "Época [720/100], Loss: 0.5275\n",
            "Época [730/100], Loss: 0.5272\n",
            "Época [740/100], Loss: 0.5268\n",
            "Época [750/100], Loss: 0.5265\n",
            "Época [760/100], Loss: 0.5261\n",
            "Época [770/100], Loss: 0.5258\n",
            "Época [780/100], Loss: 0.5255\n",
            "Época [790/100], Loss: 0.5252\n",
            "Época [800/100], Loss: 0.5249\n",
            "Época [810/100], Loss: 0.5246\n",
            "Época [820/100], Loss: 0.5243\n",
            "Época [830/100], Loss: 0.5240\n",
            "Época [840/100], Loss: 0.5237\n",
            "Época [850/100], Loss: 0.5234\n",
            "Época [860/100], Loss: 0.5231\n",
            "Época [870/100], Loss: 0.5228\n",
            "Época [880/100], Loss: 0.5226\n",
            "Época [890/100], Loss: 0.5223\n",
            "Época [900/100], Loss: 0.5221\n",
            "Época [910/100], Loss: 0.5218\n",
            "Época [920/100], Loss: 0.5216\n",
            "Época [930/100], Loss: 0.5213\n",
            "Época [940/100], Loss: 0.5211\n",
            "Época [950/100], Loss: 0.5208\n",
            "Época [960/100], Loss: 0.5206\n",
            "Época [970/100], Loss: 0.5204\n",
            "Época [980/100], Loss: 0.5202\n",
            "Época [990/100], Loss: 0.5199\n",
            "Época [1000/100], Loss: 0.5197\n"
          ]
        }
      ]
    }
  ]
}