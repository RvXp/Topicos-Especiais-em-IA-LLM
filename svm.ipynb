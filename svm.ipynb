{
  "nbformat": 4,
  "nbformat_minor": 0,
  "metadata": {
    "colab": {
      "provenance": []
    },
    "kernelspec": {
      "name": "python3",
      "display_name": "Python 3"
    },
    "language_info": {
      "name": "python"
    }
  },
  "cells": [
    {
      "cell_type": "code",
      "execution_count": 62,
      "metadata": {
        "colab": {
          "base_uri": "https://localhost:8080/"
        },
        "id": "rVigPpVMc5CZ",
        "outputId": "b219212f-891b-4aa6-f461-d7c0ed438a9b"
      },
      "outputs": [
        {
          "output_type": "stream",
          "name": "stdout",
          "text": [
            "(150, 4)\n",
            "(150,)\n"
          ]
        }
      ],
      "source": [
        "import torch\n",
        "import torch.nn as nn\n",
        "import torch.optim as optim\n",
        "from sklearn import datasets\n",
        "\n",
        "# Preparar o dataset\n",
        "iris = datasets.load_iris()\n",
        "X = iris.data; y = iris.target\n",
        "\n",
        "X = X[y != 1] ; y = y[y != 1] # versicolor\n",
        "y = torch.tensor(y, dtype=torch.float32).view(-1, 1)\n",
        "y[y == 0] = -1  # SVM espera rótulos em {-1, +1}\n",
        "\n",
        "X = torch.tensor(X, dtype=torch.float32) # Tensor é um tipo especial que suporta muitas dimensões"
      ]
    },
    {
      "cell_type": "code",
      "source": [
        "print(X.shape)\n",
        "print(y.shape)"
      ],
      "metadata": {
        "colab": {
          "base_uri": "https://localhost:8080/"
        },
        "id": "uNK0tSgDrmeI",
        "outputId": "695ee42d-bd3c-41c0-ee0c-aecf3283d9fc"
      },
      "execution_count": 63,
      "outputs": [
        {
          "output_type": "stream",
          "name": "stdout",
          "text": [
            "torch.Size([100, 4])\n",
            "torch.Size([100, 1])\n"
          ]
        }
      ]
    },
    {
      "cell_type": "code",
      "source": [
        "from sklearn.model_selection import train_test_split\n",
        "X_train, X_test, y_train, y_test = train_test_split(X, y, test_size=0.2, random_state=42)"
      ],
      "metadata": {
        "id": "yqi1bveNo6uK"
      },
      "execution_count": 53,
      "outputs": []
    },
    {
      "cell_type": "code",
      "source": [
        "# Definir parâmetros treináveis da Support Vector Machine: w e b\n",
        "n_features = X_train.shape[1]\n",
        "w = torch.randn(n_features, 1, requires_grad=True)\n",
        "b = torch.zeros(1, requires_grad=True)\n",
        "\n",
        "# === Hiperparâmetros ===\n",
        "learning_rate = 0.01\n",
        "epochs = 300\n",
        "optimizer = optim.Adam([w, b], lr=learning_rate)"
      ],
      "metadata": {
        "id": "LqVPhWKwjT4A"
      },
      "execution_count": 54,
      "outputs": []
    },
    {
      "cell_type": "code",
      "source": [
        "for epoch in range(epochs):\n",
        "    optimizer.zero_grad()\n",
        "\n",
        "    y_pred = X_train @ w + b  # Modelo SVM (um hiperplano que depende de w e b)\n",
        "\n",
        "    # Hinge loss: max(0, 1 - y_i * (w^T x_i + b))\n",
        "    perda_de_classificacao = torch.clamp(1 - y_train.view(-1, 1) * y_pred, min=0).mean()\n",
        "\n",
        "    # Termo de regularização\n",
        "    perda_de_distancia_entre_classes = 0.5 * torch.sum(w ** 2) # 2/||w|| é a distância que queremos que seja a maior possível\n",
        "\n",
        "    # Função objetivo tradicional: minimizar reg + C * hinge\n",
        "    loss = perda_de_distancia_entre_classes + perda_de_classificacao\n",
        "\n",
        "    loss.backward()\n",
        "    optimizer.step()\n",
        "\n",
        "    if (epoch + 1) % 100 == 0:\n",
        "        print(f\"Epoch {epoch+1}/{epochs}, Loss={loss.item():.4f}\")"
      ],
      "metadata": {
        "colab": {
          "base_uri": "https://localhost:8080/"
        },
        "id": "npeZuG1kjV0Q",
        "outputId": "9578f526-3c5c-41b1-865b-a4a2066bd4f4"
      },
      "execution_count": 55,
      "outputs": [
        {
          "output_type": "stream",
          "name": "stdout",
          "text": [
            "Epoch 100/300, Loss=1.5666\n",
            "Epoch 200/300, Loss=0.5636\n",
            "Epoch 300/300, Loss=0.1982\n"
          ]
        }
      ]
    }
  ]
}